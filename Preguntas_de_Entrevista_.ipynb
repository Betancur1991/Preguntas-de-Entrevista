{
  "nbformat": 4,
  "nbformat_minor": 0,
  "metadata": {
    "colab": {
      "provenance": [],
      "authorship_tag": "ABX9TyNs5WNeGm54LunLZizKh9qm",
      "include_colab_link": true
    },
    "kernelspec": {
      "name": "python3",
      "display_name": "Python 3"
    },
    "language_info": {
      "name": "python"
    }
  },
  "cells": [
    {
      "cell_type": "markdown",
      "metadata": {
        "id": "view-in-github",
        "colab_type": "text"
      },
      "source": [
        "<a href=\"https://colab.research.google.com/github/Betancur1991/Preguntas-de-Entrevista/blob/main/Preguntas_de_Entrevista_.ipynb\" target=\"_parent\"><img src=\"https://colab.research.google.com/assets/colab-badge.svg\" alt=\"Open In Colab\"/></a>"
      ]
    },
    {
      "cell_type": "markdown",
      "source": [
        "**Preguntas de entrevista sobre agrupamiento**\n",
        "\n",
        "\n",
        "1.Compara y contrasta dos algoritmos diferentes de agrupamiento. ¿Cuándo usaría uno y cuándo la otra?\n",
        "Usaria un algoritmo de agrupamiento \n",
        "\n",
        "2.Explica las diferencias entre k-medias y agrupamiento jerárquico \n",
        "Para trabajar Kmeans debes de tener claro que numero de clusters vas a usar \n",
        "Para el agrupamiento Jerarquico puedes simplemente hacer las agrupaciones y con ayuda del dendograma seleccionar con cuantas agrupaciones te quedas\n",
        "\n",
        "\n",
        "3.Explica brevemente cómo funciona el algoritmo de agrupamiento k-medias.\n",
        "\n",
        "Los K-means agrupan según la ubicación de los centroides que mejoran las ubicaciones con respecto a los datos, hasta que el cambio en su posición no es significativo, arrojando así la segmentación de grupos.\n",
        "\n",
        "La agrupación jerárquica funciona con respecto a las distancias entre los datos, estas distancias son dadas por sus características las cuales segmentan los grupos hasta llegar a cada dato, el número de grupos a seleccionar se puede obtener a través de un dendrograma\n",
        "\n",
        "\n",
        "4.¿Cuál es un caso común para el agrupamiento k-medias?\n",
        "\n",
        "\n",
        "5.¿Por qué es difícil identificar el número “ideal” de clústeres en un conjunto de datos utilizando la agrupación k-medias?\n",
        "\n",
        "es un hiperparametro y las tecnicas que existen no dan un valor absoluto aunque dan ayuda esta eleccion debe ser a criterio propio \n",
        "\n",
        "6.¿Cuál es una heurística para seleccionar \"k\" para la agrupación de k-medias?\n",
        "\n",
        "\n",
        "7.¿Cuál es la diferencia entre aprendizaje supervisado y no supervisado? \n",
        "\n",
        "en el aprendizaje supervizado se tiene un target un objetivo determinado, mientras que en el no supervizado no.\n",
        "\n",
        "\n",
        "8.¿Cuál es la diferencia entre k-medias y k vecinos más cercanos?\n",
        "\n",
        "A diferencia de K-means, que es un algoritmo no supervisado y donde la “K” significa la cantidad de “grupos” (clusters) que deseamos clasificar, en K-Nearest Neighbor la “K” significa la cantidad de “puntos vecinos” que tenemos en cuenta en las cercanías para clasificar los “n” grupos -que ya se conocen de antemano\n",
        "\n",
        "9.Con el nivel de detalle técnico que te resulte más cómodo, describe cómo funciona DBSCAN y en qué casos lo escogerías por sobre k-medias.\n",
        "\n",
        "El DBSCAN agrupa teniendo encuenta la  densidad de puntos, que debe de tener una cantidad minima de puntos en un radio determinado\n",
        "\n",
        "\n",
        "10.Supón que estás intentando de agrupar tus observaciones en grupos. Sin embargo, tienen demasiadas características en tus datos. ¿Cómo describirías cuáles usar en el modelo de agrupamiento?"
      ],
      "metadata": {
        "id": "TLvdRaSl-qvI"
      }
    },
    {
      "cell_type": "code",
      "source": [],
      "metadata": {
        "id": "-hNKiywz_Rsy"
      },
      "execution_count": null,
      "outputs": []
    }
  ]
}