{
  "nbformat": 4,
  "nbformat_minor": 0,
  "metadata": {
    "colab": {
      "provenance": [],
      "authorship_tag": "ABX9TyMkvKr6y5SJPr6z38wokZ3p",
      "include_colab_link": true
    },
    "kernelspec": {
      "name": "python3",
      "display_name": "Python 3"
    },
    "language_info": {
      "name": "python"
    }
  },
  "cells": [
    {
      "cell_type": "markdown",
      "metadata": {
        "id": "view-in-github",
        "colab_type": "text"
      },
      "source": [
        "<a href=\"https://colab.research.google.com/github/Betancur1991/Preguntas-de-Entrevista/blob/main/Preguntas_de_Entrevista_.ipynb\" target=\"_parent\"><img src=\"https://colab.research.google.com/assets/colab-badge.svg\" alt=\"Open In Colab\"/></a>"
      ]
    },
    {
      "cell_type": "markdown",
      "source": [
        "**Preguntas de entrevista sobre agrupamiento**\n",
        "\n",
        "\n",
        "1.Compara y contrasta dos algoritmos diferentes de agrupamiento. ¿Cuándo usaría uno y cuándo la otra?\n",
        "\n",
        "\n",
        "2.Explica las diferencias entre k-medias y agrupamiento jerárquico\n",
        "\n",
        "\n",
        "3.Explica brevemente cómo funciona el algoritmo de agrupamiento k-medias.\n",
        "\n",
        "\n",
        "4.¿Cuál es un caso común para el agrupamiento k-medias?\n",
        "\n",
        "\n",
        "5.¿Por qué es difícil identificar el número “ideal” de clústeres en un conjunto de datos utilizando la agrupación k-medias?\n",
        "\n",
        "\n",
        "6.¿Cuál es una heurística para seleccionar \"k\" para la agrupación de k-medias?\n",
        "\n",
        "\n",
        "7.¿Cuál es la diferencia entre aprendizaje supervisado y no supervisado? \n",
        "\n",
        "\n",
        "8.¿Cuál es la diferencia entre k-medias y k vecinos más cercanos?\n",
        "\n",
        "\n",
        "9.Con el nivel de detalle técnico que te resulte más cómodo, describe cómo funciona DBSCAN y en qué casos lo escogerías por sobre k-medias.\n",
        "\n",
        "\n",
        "10.Supón que estás intentando de agrupar tus observaciones en grupos. Sin embargo, tienen demasiadas características en tus datos. ¿Cómo describirías cuáles usar en el modelo de agrupamiento?"
      ],
      "metadata": {
        "id": "TLvdRaSl-qvI"
      }
    },
    {
      "cell_type": "code",
      "source": [],
      "metadata": {
        "id": "-hNKiywz_Rsy"
      },
      "execution_count": null,
      "outputs": []
    }
  ]
}