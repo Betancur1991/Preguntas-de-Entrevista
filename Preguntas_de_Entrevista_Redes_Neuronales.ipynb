{
  "nbformat": 4,
  "nbformat_minor": 0,
  "metadata": {
    "colab": {
      "provenance": [],
      "authorship_tag": "ABX9TyO2r6W0o8B8C4ssCYHhJl5n",
      "include_colab_link": true
    },
    "kernelspec": {
      "name": "python3",
      "display_name": "Python 3"
    },
    "language_info": {
      "name": "python"
    }
  },
  "cells": [
    {
      "cell_type": "markdown",
      "metadata": {
        "id": "view-in-github",
        "colab_type": "text"
      },
      "source": [
        "<a href=\"https://colab.research.google.com/github/Betancur1991/Preguntas-de-Entrevista/blob/main/Preguntas_de_Entrevista_Redes_Neuronales.ipynb\" target=\"_parent\"><img src=\"https://colab.research.google.com/assets/colab-badge.svg\" alt=\"Open In Colab\"/></a>"
      ]
    },
    {
      "cell_type": "markdown",
      "source": [
        "1.¿Cuándo utilizarías una red neuronal recurrente?\n",
        "\n",
        "2.¿Cómo funcionan las redes neuronales recurrentes?\n",
        "\n",
        "3.¿Qué hiperparámetros están disponibles en LSTM?\n",
        "\n",
        "4.Explica las redes neuronales a un colega no técnico.\n",
        "\n",
        "5.Imagina que estás utilizando una red neuronal para clasificar las imágenes, pero tu conjunto de datos de imagen es muy pequeño. Necesitas datos adicionales para crear un modelo decente, pero no tienes acceso a otras imágenes. ¿Qué harías?\n",
        "\n",
        "6.¿Cómo funciona el backpropagation?\n",
        "\n",
        "7.¿Con qué tipos de redes neuronales has trabajado?\n",
        "\n",
        "8.¿Para qué tipos de conjunto de datos son mejores las redes neuronales?\n",
        "\n",
        "9.¿Por qué las CNN son buenas para los datos de imagen?\n",
        "\n",
        "10.¿Cuáles son las desventajas para el argumento de datos?"
      ],
      "metadata": {
        "id": "LPH9OyL3TnI8"
      }
    }
  ]
}