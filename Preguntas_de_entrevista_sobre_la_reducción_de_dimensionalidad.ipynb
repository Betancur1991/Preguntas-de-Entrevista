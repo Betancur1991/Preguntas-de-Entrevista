{
  "nbformat": 4,
  "nbformat_minor": 0,
  "metadata": {
    "colab": {
      "provenance": [],
      "authorship_tag": "ABX9TyO+Vf5JbdrHZojWoTSJ0OY7",
      "include_colab_link": true
    },
    "kernelspec": {
      "name": "python3",
      "display_name": "Python 3"
    },
    "language_info": {
      "name": "python"
    }
  },
  "cells": [
    {
      "cell_type": "markdown",
      "metadata": {
        "id": "view-in-github",
        "colab_type": "text"
      },
      "source": [
        "<a href=\"https://colab.research.google.com/github/Betancur1991/Preguntas-de-Entrevista/blob/main/Preguntas_de_entrevista_sobre_la_reducci%C3%B3n_de_dimensionalidad.ipynb\" target=\"_parent\"><img src=\"https://colab.research.google.com/assets/colab-badge.svg\" alt=\"Open In Colab\"/></a>"
      ]
    },
    {
      "cell_type": "markdown",
      "source": [
        "Preguntas de entrevista sobre la reducción de dimensionalidad\n",
        "\n",
        "\n",
        "¿Por qué deberías utilizar las técnicas de reducción de dimensionalidad para transformar tus datos antes de entrenarlos?\n",
        "\n",
        "\n",
        "¿Por qué deberías evitar las técnicas de reducción de dimensionalidad para transformar tus datos antes de entrenarlos?\n",
        "\n",
        "\n",
        "Nombra un algoritmo de reducción de dimensionalidad popular y descríbelo brevemente.\n",
        "\n",
        "\n",
        "Antes de realizar una reducción de dimensionalidad, ¿puedes transformar los datos de nuevo en el espacio de características original? ¿Cómo?\n",
        "\n",
        "\n",
        "¿Cómo se seleccionan los números de los componentes principales necesarios para ACP?\n",
        "\n",
        "\n",
        "¿Cuándo utilizarías ACP? \n",
        "\n",
        "\n",
        "¿Por qué realizarías ACP incluso si no tienes muchas características?\n",
        "\n",
        "\n",
        "¿En qué casos NO utilizarías ACP?\n",
        "\n",
        "\n",
        "¿Cuál es la interpretación geométrica de un vector propio y valor propio?\n",
        "\n",
        "\n",
        "¿Cuál es la interpretación algebraica de un vector propio y valor propio?\n"
      ],
      "metadata": {
        "id": "__bHjkkTwjIV"
      }
    }
  ]
}