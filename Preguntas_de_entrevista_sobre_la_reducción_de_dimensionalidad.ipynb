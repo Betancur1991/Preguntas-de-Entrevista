{
  "nbformat": 4,
  "nbformat_minor": 0,
  "metadata": {
    "colab": {
      "provenance": [],
      "authorship_tag": "ABX9TyO+Vf5JbdrHZojWoTSJ0OY7",
      "include_colab_link": true
    },
    "kernelspec": {
      "name": "python3",
      "display_name": "Python 3"
    },
    "language_info": {
      "name": "python"
    }
  },
  "cells": [
    {
      "cell_type": "markdown",
      "metadata": {
        "id": "view-in-github",
        "colab_type": "text"
      },
      "source": [
        "<a href=\"https://colab.research.google.com/github/Betancur1991/Preguntas-de-Entrevista/blob/main/Preguntas_de_entrevista_sobre_la_reducci%C3%B3n_de_dimensionalidad.ipynb\" target=\"_parent\"><img src=\"https://colab.research.google.com/assets/colab-badge.svg\" alt=\"Open In Colab\"/></a>"
      ]
    },
    {
      "cell_type": "markdown",
      "source": [
        "Preguntas de entrevista sobre la reducción de dimensionalidad\n",
        "\n",
        "\n",
        "¿Por qué deberías utilizar las técnicas de reducción de dimensionalidad para transformar tus datos antes de entrenarlos?\n",
        "\n",
        "Para mejorar el tiempo de entrenamiento de mis modelos y disminuir la dificultad para encontrar una buena solución\n",
        "\n",
        "\n",
        "¿Por qué deberías evitar las técnicas de reducción de dimensionalidad para transformar tus datos antes de entrenarlos?\n",
        "\n",
        "Se pierde inevitablemente algo de información del dataset, que podria ser relevante para la resolución de un problema\n",
        "\n",
        "Nombra un algoritmo de reducción de dimensionalidad popular y descríbelo brevemente.\n",
        "\n",
        "el algoritmo PCA 'Principal Components Analitics'\n",
        "el analisis de componentes principales lo que hace el algoritmo es que identifica el hiperplano de mayor varianza respecto a los datos y luego proyecta los datos en el\n",
        "\n",
        "Antes de realizar una reducción de dimensionalidad, ¿puedes transformar los datos de nuevo en el espacio de características original? ¿Cómo?\n",
        "\n",
        "Si se puede, se puede hacer una transformacion inversa usando la funcion inverse_transform(data)  \n",
        "\n",
        "¿Cómo se seleccionan los números de los componentes principales necesarios para ACP?\n",
        "\n",
        "Se puede escoger usando el metodo del codo en base a la varianza o usando el porcentaje de la varianza que requiera\n",
        "\n",
        "¿Cuándo utilizarías ACP? \n",
        "\n",
        "Cuando necesite hacer visualizaciones, Cuando tenga un set de datos muy grande que este afectando los tiempos de ejecucion de mi modelo, o sea dificil de predecir por mi modelo por la cantidad de datos\n",
        "\n",
        "¿Por qué realizarías ACP incluso si no tienes muchas características?\n",
        "\n",
        "Es bueno usar ACP para poder hacer de manera mas facil visualizaciones que superen las tres dimensiones \n",
        "¿En qué casos NO utilizarías ACP?\n",
        "\n",
        "En caso de que los tiempos de entrenamiento del modelo sean aceptables\n",
        "¿Cuál es la interpretación geométrica de un vector propio y valor propio?\n",
        "\n",
        "\n",
        "¿Cuál es la interpretación algebraica de un vector propio y valor propio?\n"
      ],
      "metadata": {
        "id": "__bHjkkTwjIV"
      }
    }
  ]
}
